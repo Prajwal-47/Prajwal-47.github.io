{
  "nbformat": 4,
  "nbformat_minor": 0,
  "metadata": {
    "colab": {
      "provenance": [],
      "gpuType": "T4",
      "include_colab_link": true
    },
    "kernelspec": {
      "name": "python3",
      "display_name": "Python 3"
    },
    "language_info": {
      "name": "python"
    },
    "accelerator": "GPU"
  },
  "cells": [
    {
      "cell_type": "markdown",
      "metadata": {
        "id": "view-in-github",
        "colab_type": "text"
      },
      "source": [
        "<a href=\"https://colab.research.google.com/github/Prajwal-47/Prajwal-47.github.io/blob/master/HelloCUDA.ipynb\" target=\"_parent\"><img src=\"https://colab.research.google.com/assets/colab-badge.svg\" alt=\"Open In Colab\"/></a>"
      ]
    },
    {
      "cell_type": "markdown",
      "source": [
        "# How to run CUDA Programs on Google Collab\n",
        "There are two ways\n",
        "1. Using nvcc plugin.\n",
        "2. Manually ompling .cu program and run\n"
      ],
      "metadata": {
        "id": "i0R5crYTnEPj"
      }
    },
    {
      "cell_type": "code",
      "execution_count": 2,
      "metadata": {
        "colab": {
          "base_uri": "https://localhost:8080/"
        },
        "id": "QZxTGNpY147E",
        "outputId": "835ec751-09ce-4b38-d208-c77204cb3c9c"
      },
      "outputs": [
        {
          "output_type": "stream",
          "name": "stdout",
          "text": [
            "Collecting git+https://github.com/andreinechaev/nvcc4jupyter.git\n",
            "  Cloning https://github.com/andreinechaev/nvcc4jupyter.git to /tmp/pip-req-build-5qtw4yyx\n",
            "  Running command git clone --filter=blob:none --quiet https://github.com/andreinechaev/nvcc4jupyter.git /tmp/pip-req-build-5qtw4yyx\n",
            "  Resolved https://github.com/andreinechaev/nvcc4jupyter.git to commit 0a71d56e5dce3ff1f0dd2c47c29367629262f527\n",
            "  Preparing metadata (setup.py) ... \u001b[?25l\u001b[?25hdone\n",
            "Building wheels for collected packages: NVCCPlugin\n",
            "  Building wheel for NVCCPlugin (setup.py) ... \u001b[?25l\u001b[?25hdone\n",
            "  Created wheel for NVCCPlugin: filename=NVCCPlugin-0.0.2-py3-none-any.whl size=4293 sha256=2b2a95d52a69dae25513c9fa930f254d54830ade42198a7900d8189eecf47273\n",
            "  Stored in directory: /tmp/pip-ephem-wheel-cache-_5i6tr88/wheels/a8/b9/18/23f8ef71ceb0f63297dd1903aedd067e6243a68ea756d6feea\n",
            "Successfully built NVCCPlugin\n",
            "Installing collected packages: NVCCPlugin\n",
            "Successfully installed NVCCPlugin-0.0.2\n",
            "created output directory at /content/src\n",
            "Out bin /content/result.out\n"
          ]
        }
      ],
      "source": [
        "! # Step 0. Choose run time as GPU. On Menubar, Runtime > Change runtime > select GPU as accelerator & Save.\n",
        "! # Step 1. Click Connect on top right corner. You can see the success status after s few seconds: Tick mark + RAM+DISK info. Terminate all other sessions if any.\n",
        "! # Step 2-3. Run this cell and the next.\n",
        "\n",
        "!pip install git+https://github.com/andreinechaev/nvcc4jupyter.git\n",
        "%load_ext nvcc_plugin"
      ]
    },
    {
      "cell_type": "code",
      "source": [
        "%%cu\n",
        "#include <stdio.h>\n",
        "#include <cuda.h>\n",
        "__global__ void dkernel() {\n",
        "    printf(\"Hello World.\\n\");\n",
        "}\n",
        "int main() {\n",
        "    dkernel<<<1, 1>>>();\n",
        "\tcudaThreadSynchronize();\n",
        "    return 0;\n",
        "}\n"
      ],
      "metadata": {
        "colab": {
          "base_uri": "https://localhost:8080/"
        },
        "id": "Q8cKgyuCJ3GD",
        "outputId": "27496c2e-53b1-42ab-e296-bee6f41ba4a9"
      },
      "execution_count": 3,
      "outputs": [
        {
          "output_type": "stream",
          "name": "stdout",
          "text": [
            "Hello World.\n",
            "\n"
          ]
        }
      ]
    }
  ]
}